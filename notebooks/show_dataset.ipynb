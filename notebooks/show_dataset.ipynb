{
 "cells": [
  {
   "cell_type": "code",
   "execution_count": 1,
   "metadata": {},
   "outputs": [
    {
     "name": "stdout",
     "output_type": "stream",
     "text": [
      " 100% |███████████████| 1517/1517 [16.6s elapsed, 0s remaining, 127.7 samples/s]      \n",
      "['water', 'rust']\n",
      "Name:        2022.11.22.11.28.10\n",
      "Media type:  image\n",
      "Num samples: 1517\n",
      "Persistent:  False\n",
      "Tags:        []\n",
      "Sample fields:\n",
      "    id:            fiftyone.core.fields.ObjectIdField\n",
      "    filepath:      fiftyone.core.fields.StringField\n",
      "    tags:          fiftyone.core.fields.ListField(fiftyone.core.fields.StringField)\n",
      "    metadata:      fiftyone.core.fields.EmbeddedDocumentField(fiftyone.core.metadata.ImageMetadata)\n",
      "    detections:    fiftyone.core.fields.EmbeddedDocumentField(fiftyone.core.labels.Detections)\n",
      "    segmentations: fiftyone.core.fields.EmbeddedDocumentField(fiftyone.core.labels.Detections)\n",
      "    coco_id:       fiftyone.core.fields.IntField\n"
     ]
    },
    {
     "data": {
      "text/html": [
       "\n",
       "        <iframe\n",
       "            width=\"100%\"\n",
       "            height=\"800\"\n",
       "            src=\"http://localhost:5151/?context=ipython&subscription=2858c70b-1076-4218-8963-0f2e50d2983e\"\n",
       "            frameborder=\"0\"\n",
       "            allowfullscreen\n",
       "            \n",
       "        ></iframe>\n",
       "        "
      ],
      "text/plain": [
       "<IPython.lib.display.IFrame at 0x7fc9aa469a90>"
      ]
     },
     "metadata": {},
     "output_type": "display_data"
    }
   ],
   "source": [
    "import fiftyone as fo\n",
    "\n",
    "# Load COCO formatted dataset\n",
    "coco_dataset = fo.Dataset.from_dir(\n",
    "    dataset_type=fo.types.COCODetectionDataset,\n",
    "    data_path='/home/radmin/Desktop/repos/detectron2-corrosion-detection/dataset/water_corrosion/images',\n",
    "    labels_path=\"/home/radmin/Desktop/repos/detectron2-corrosion-detection/dataset/water_corrosion/water_corrosion_result.json\",\n",
    "    include_id=True,\n",
    ")\n",
    "\n",
    "# Verify that the class list for our dataset was imported\n",
    "print(coco_dataset.default_classes)  # ['airplane', 'apple', ...]\n",
    "\n",
    "print(coco_dataset)\n",
    "\n",
    "session = fo.launch_app(coco_dataset, port=5151)"
   ]
  }
 ],
 "metadata": {
  "kernelspec": {
   "display_name": "Python 3.8.15 ('fiftyone')",
   "language": "python",
   "name": "python3"
  },
  "language_info": {
   "codemirror_mode": {
    "name": "ipython",
    "version": 3
   },
   "file_extension": ".py",
   "mimetype": "text/x-python",
   "name": "python",
   "nbconvert_exporter": "python",
   "pygments_lexer": "ipython3",
   "version": "3.8.15"
  },
  "orig_nbformat": 4,
  "vscode": {
   "interpreter": {
    "hash": "2c3d002f0c830bdfda7a6285c597f4309af9dcec440e44591b5d710de8d20bfe"
   }
  }
 },
 "nbformat": 4,
 "nbformat_minor": 2
}
